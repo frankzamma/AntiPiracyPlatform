{
  "nbformat": 4,
  "nbformat_minor": 0,
  "metadata": {
    "colab": {
      "provenance": [],
      "machine_shape": "hm",
      "include_colab_link": true
    },
    "kernelspec": {
      "name": "python3",
      "display_name": "Python 3"
    },
    "language_info": {
      "name": "python"
    },
    "widgets": {
      "application/vnd.jupyter.widget-state+json": {
        "38e7fe1bafc840b8951e968a5f436ce3": {
          "model_module": "@jupyter-widgets/controls",
          "model_name": "HBoxModel",
          "model_module_version": "1.5.0",
          "state": {
            "_dom_classes": [],
            "_model_module": "@jupyter-widgets/controls",
            "_model_module_version": "1.5.0",
            "_model_name": "HBoxModel",
            "_view_count": null,
            "_view_module": "@jupyter-widgets/controls",
            "_view_module_version": "1.5.0",
            "_view_name": "HBoxView",
            "box_style": "",
            "children": [
              "IPY_MODEL_a053e71f31274e3ba81096e30d0f7b54",
              "IPY_MODEL_94a2414b52224e1590e98bab2743a138",
              "IPY_MODEL_1caf4dd810a747c3b3885be604a8e9cf"
            ],
            "layout": "IPY_MODEL_3e460f73869848bd84620b73a27a84dc"
          }
        },
        "a053e71f31274e3ba81096e30d0f7b54": {
          "model_module": "@jupyter-widgets/controls",
          "model_name": "HTMLModel",
          "model_module_version": "1.5.0",
          "state": {
            "_dom_classes": [],
            "_model_module": "@jupyter-widgets/controls",
            "_model_module_version": "1.5.0",
            "_model_name": "HTMLModel",
            "_view_count": null,
            "_view_module": "@jupyter-widgets/controls",
            "_view_module_version": "1.5.0",
            "_view_name": "HTMLView",
            "description": "",
            "description_tooltip": null,
            "layout": "IPY_MODEL_90aafe07a24745889e65ec6bf3674717",
            "placeholder": "​",
            "style": "IPY_MODEL_b0faf312baab4d06a97f8c3fdfe96e70",
            "value": "100%"
          }
        },
        "94a2414b52224e1590e98bab2743a138": {
          "model_module": "@jupyter-widgets/controls",
          "model_name": "FloatProgressModel",
          "model_module_version": "1.5.0",
          "state": {
            "_dom_classes": [],
            "_model_module": "@jupyter-widgets/controls",
            "_model_module_version": "1.5.0",
            "_model_name": "FloatProgressModel",
            "_view_count": null,
            "_view_module": "@jupyter-widgets/controls",
            "_view_module_version": "1.5.0",
            "_view_name": "ProgressView",
            "bar_style": "success",
            "description": "",
            "description_tooltip": null,
            "layout": "IPY_MODEL_43fe34af6e264115b70c3dff5470981d",
            "max": 3000,
            "min": 0,
            "orientation": "horizontal",
            "style": "IPY_MODEL_045ef729b8e747eea1024c8dd664e7c7",
            "value": 3000
          }
        },
        "1caf4dd810a747c3b3885be604a8e9cf": {
          "model_module": "@jupyter-widgets/controls",
          "model_name": "HTMLModel",
          "model_module_version": "1.5.0",
          "state": {
            "_dom_classes": [],
            "_model_module": "@jupyter-widgets/controls",
            "_model_module_version": "1.5.0",
            "_model_name": "HTMLModel",
            "_view_count": null,
            "_view_module": "@jupyter-widgets/controls",
            "_view_module_version": "1.5.0",
            "_view_name": "HTMLView",
            "description": "",
            "description_tooltip": null,
            "layout": "IPY_MODEL_990eb143db5a4960b11e02bd03c0acc3",
            "placeholder": "​",
            "style": "IPY_MODEL_098c33416a2d47ebba9acdf97a6c7030",
            "value": " 3000/3000 [12:53&lt;00:00,  4.05it/s]"
          }
        },
        "3e460f73869848bd84620b73a27a84dc": {
          "model_module": "@jupyter-widgets/base",
          "model_name": "LayoutModel",
          "model_module_version": "1.2.0",
          "state": {
            "_model_module": "@jupyter-widgets/base",
            "_model_module_version": "1.2.0",
            "_model_name": "LayoutModel",
            "_view_count": null,
            "_view_module": "@jupyter-widgets/base",
            "_view_module_version": "1.2.0",
            "_view_name": "LayoutView",
            "align_content": null,
            "align_items": null,
            "align_self": null,
            "border": null,
            "bottom": null,
            "display": null,
            "flex": null,
            "flex_flow": null,
            "grid_area": null,
            "grid_auto_columns": null,
            "grid_auto_flow": null,
            "grid_auto_rows": null,
            "grid_column": null,
            "grid_gap": null,
            "grid_row": null,
            "grid_template_areas": null,
            "grid_template_columns": null,
            "grid_template_rows": null,
            "height": null,
            "justify_content": null,
            "justify_items": null,
            "left": null,
            "margin": null,
            "max_height": null,
            "max_width": null,
            "min_height": null,
            "min_width": null,
            "object_fit": null,
            "object_position": null,
            "order": null,
            "overflow": null,
            "overflow_x": null,
            "overflow_y": null,
            "padding": null,
            "right": null,
            "top": null,
            "visibility": null,
            "width": null
          }
        },
        "90aafe07a24745889e65ec6bf3674717": {
          "model_module": "@jupyter-widgets/base",
          "model_name": "LayoutModel",
          "model_module_version": "1.2.0",
          "state": {
            "_model_module": "@jupyter-widgets/base",
            "_model_module_version": "1.2.0",
            "_model_name": "LayoutModel",
            "_view_count": null,
            "_view_module": "@jupyter-widgets/base",
            "_view_module_version": "1.2.0",
            "_view_name": "LayoutView",
            "align_content": null,
            "align_items": null,
            "align_self": null,
            "border": null,
            "bottom": null,
            "display": null,
            "flex": null,
            "flex_flow": null,
            "grid_area": null,
            "grid_auto_columns": null,
            "grid_auto_flow": null,
            "grid_auto_rows": null,
            "grid_column": null,
            "grid_gap": null,
            "grid_row": null,
            "grid_template_areas": null,
            "grid_template_columns": null,
            "grid_template_rows": null,
            "height": null,
            "justify_content": null,
            "justify_items": null,
            "left": null,
            "margin": null,
            "max_height": null,
            "max_width": null,
            "min_height": null,
            "min_width": null,
            "object_fit": null,
            "object_position": null,
            "order": null,
            "overflow": null,
            "overflow_x": null,
            "overflow_y": null,
            "padding": null,
            "right": null,
            "top": null,
            "visibility": null,
            "width": null
          }
        },
        "b0faf312baab4d06a97f8c3fdfe96e70": {
          "model_module": "@jupyter-widgets/controls",
          "model_name": "DescriptionStyleModel",
          "model_module_version": "1.5.0",
          "state": {
            "_model_module": "@jupyter-widgets/controls",
            "_model_module_version": "1.5.0",
            "_model_name": "DescriptionStyleModel",
            "_view_count": null,
            "_view_module": "@jupyter-widgets/base",
            "_view_module_version": "1.2.0",
            "_view_name": "StyleView",
            "description_width": ""
          }
        },
        "43fe34af6e264115b70c3dff5470981d": {
          "model_module": "@jupyter-widgets/base",
          "model_name": "LayoutModel",
          "model_module_version": "1.2.0",
          "state": {
            "_model_module": "@jupyter-widgets/base",
            "_model_module_version": "1.2.0",
            "_model_name": "LayoutModel",
            "_view_count": null,
            "_view_module": "@jupyter-widgets/base",
            "_view_module_version": "1.2.0",
            "_view_name": "LayoutView",
            "align_content": null,
            "align_items": null,
            "align_self": null,
            "border": null,
            "bottom": null,
            "display": null,
            "flex": null,
            "flex_flow": null,
            "grid_area": null,
            "grid_auto_columns": null,
            "grid_auto_flow": null,
            "grid_auto_rows": null,
            "grid_column": null,
            "grid_gap": null,
            "grid_row": null,
            "grid_template_areas": null,
            "grid_template_columns": null,
            "grid_template_rows": null,
            "height": null,
            "justify_content": null,
            "justify_items": null,
            "left": null,
            "margin": null,
            "max_height": null,
            "max_width": null,
            "min_height": null,
            "min_width": null,
            "object_fit": null,
            "object_position": null,
            "order": null,
            "overflow": null,
            "overflow_x": null,
            "overflow_y": null,
            "padding": null,
            "right": null,
            "top": null,
            "visibility": null,
            "width": null
          }
        },
        "045ef729b8e747eea1024c8dd664e7c7": {
          "model_module": "@jupyter-widgets/controls",
          "model_name": "ProgressStyleModel",
          "model_module_version": "1.5.0",
          "state": {
            "_model_module": "@jupyter-widgets/controls",
            "_model_module_version": "1.5.0",
            "_model_name": "ProgressStyleModel",
            "_view_count": null,
            "_view_module": "@jupyter-widgets/base",
            "_view_module_version": "1.2.0",
            "_view_name": "StyleView",
            "bar_color": null,
            "description_width": ""
          }
        },
        "990eb143db5a4960b11e02bd03c0acc3": {
          "model_module": "@jupyter-widgets/base",
          "model_name": "LayoutModel",
          "model_module_version": "1.2.0",
          "state": {
            "_model_module": "@jupyter-widgets/base",
            "_model_module_version": "1.2.0",
            "_model_name": "LayoutModel",
            "_view_count": null,
            "_view_module": "@jupyter-widgets/base",
            "_view_module_version": "1.2.0",
            "_view_name": "LayoutView",
            "align_content": null,
            "align_items": null,
            "align_self": null,
            "border": null,
            "bottom": null,
            "display": null,
            "flex": null,
            "flex_flow": null,
            "grid_area": null,
            "grid_auto_columns": null,
            "grid_auto_flow": null,
            "grid_auto_rows": null,
            "grid_column": null,
            "grid_gap": null,
            "grid_row": null,
            "grid_template_areas": null,
            "grid_template_columns": null,
            "grid_template_rows": null,
            "height": null,
            "justify_content": null,
            "justify_items": null,
            "left": null,
            "margin": null,
            "max_height": null,
            "max_width": null,
            "min_height": null,
            "min_width": null,
            "object_fit": null,
            "object_position": null,
            "order": null,
            "overflow": null,
            "overflow_x": null,
            "overflow_y": null,
            "padding": null,
            "right": null,
            "top": null,
            "visibility": null,
            "width": null
          }
        },
        "098c33416a2d47ebba9acdf97a6c7030": {
          "model_module": "@jupyter-widgets/controls",
          "model_name": "DescriptionStyleModel",
          "model_module_version": "1.5.0",
          "state": {
            "_model_module": "@jupyter-widgets/controls",
            "_model_module_version": "1.5.0",
            "_model_name": "DescriptionStyleModel",
            "_view_count": null,
            "_view_module": "@jupyter-widgets/base",
            "_view_module_version": "1.2.0",
            "_view_name": "StyleView",
            "description_width": ""
          }
        }
      }
    }
  },
  "cells": [
    {
      "cell_type": "markdown",
      "metadata": {
        "id": "view-in-github",
        "colab_type": "text"
      },
      "source": [
        "<a href=\"https://colab.research.google.com/github/frankzamma/AntiPiracyPlatform/blob/main/Notebook/TestQLearning.ipynb\" target=\"_parent\"><img src=\"https://colab.research.google.com/assets/colab-badge.svg\" alt=\"Open In Colab\"/></a>"
      ]
    },
    {
      "cell_type": "markdown",
      "source": [
        "# Training e Test con Q-Learning\n",
        "In questo notebook è presente il training di Q*Bert sfruttando l'algoritmo Q-Learning\n"
      ],
      "metadata": {
        "id": "JWnVPgsUNT75"
      }
    },
    {
      "cell_type": "markdown",
      "source": [
        "## Download Repository\n",
        "\n",
        "Download della repository per utilizzare le classi create su Google Colab"
      ],
      "metadata": {
        "id": "bOk6bhcHkARS"
      }
    },
    {
      "cell_type": "code",
      "source": [
        "from google.colab import userdata"
      ],
      "metadata": {
        "id": "s2-mPeabkNXD"
      },
      "execution_count": 1,
      "outputs": []
    },
    {
      "cell_type": "code",
      "source": [
        "! git clone https://{userdata.get('TokenGithub')}\"@github.com/amigli/Q-Bert_RL.git\""
      ],
      "metadata": {
        "id": "JInEJG6QkaBO",
        "outputId": "2e7a36e4-b95f-4590-9a70-952d9ca34452",
        "colab": {
          "base_uri": "https://localhost:8080/"
        }
      },
      "execution_count": 2,
      "outputs": [
        {
          "output_type": "stream",
          "name": "stdout",
          "text": [
            "Cloning into 'Q-Bert_RL'...\n",
            "remote: Enumerating objects: 208, done.\u001b[K\n",
            "remote: Counting objects: 100% (208/208), done.\u001b[K\n",
            "remote: Compressing objects: 100% (145/145), done.\u001b[K\n",
            "remote: Total 208 (delta 113), reused 124 (delta 53), pack-reused 0 (from 0)\u001b[K\n",
            "Receiving objects: 100% (208/208), 1.34 MiB | 10.15 MiB/s, done.\n",
            "Resolving deltas: 100% (113/113), done.\n"
          ]
        }
      ]
    },
    {
      "cell_type": "code",
      "source": [
        "%cd Q-Bert_RL/"
      ],
      "metadata": {
        "id": "2oDTWwTpkhlP",
        "outputId": "63c4c612-89be-420c-b3ea-dc83f1aaff4c",
        "colab": {
          "base_uri": "https://localhost:8080/"
        }
      },
      "execution_count": 2,
      "outputs": [
        {
          "output_type": "stream",
          "name": "stdout",
          "text": [
            "/content/Q-Bert_RL\n"
          ]
        }
      ]
    },
    {
      "cell_type": "markdown",
      "source": [
        "## Configurazione salvataggio video\n",
        "\n",
        "Configurazione di Google Drive per salvare i video dell'esecuzione dopo il training"
      ],
      "metadata": {
        "id": "haofROhvj_W-"
      }
    },
    {
      "cell_type": "code",
      "source": [
        "from google.colab import drive\n",
        "drive.mount('/content/drive', force_remount=True)"
      ],
      "metadata": {
        "colab": {
          "base_uri": "https://localhost:8080/"
        },
        "id": "rDqB0p3_Agj-",
        "outputId": "e5cdb23a-34e6-4ea1-ca2c-28e6cb0eaaae"
      },
      "execution_count": 3,
      "outputs": [
        {
          "output_type": "stream",
          "name": "stdout",
          "text": [
            "Mounted at /content/drive\n"
          ]
        }
      ]
    },
    {
      "cell_type": "code",
      "source": [
        "directory_videos = '/content/Videos/'"
      ],
      "metadata": {
        "id": "HqqmWKC2lCyP"
      },
      "execution_count": 14,
      "outputs": []
    },
    {
      "cell_type": "markdown",
      "source": [
        "## Installazione dei requirements\n",
        "\n",
        "Vengono installati tutti i moduli necessari dal file requirements.txt"
      ],
      "metadata": {
        "id": "UKbOmX3NlW83"
      }
    },
    {
      "cell_type": "code",
      "source": [
        "!pip install -r requirements.txt"
      ],
      "metadata": {
        "colab": {
          "base_uri": "https://localhost:8080/"
        },
        "id": "8utRTg93OQJp",
        "outputId": "016cf26e-fcbb-4eb5-d005-1a837b15ab4b"
      },
      "execution_count": 5,
      "outputs": [
        {
          "output_type": "stream",
          "name": "stdout",
          "text": [
            "Requirement already satisfied: ale-py==0.10.1 in /usr/local/lib/python3.11/dist-packages (from -r requirements.txt (line 1)) (0.10.1)\n",
            "Requirement already satisfied: cloudpickle==3.1.0 in /usr/local/lib/python3.11/dist-packages (from -r requirements.txt (line 2)) (3.1.0)\n",
            "Requirement already satisfied: contourpy==1.3.1 in /usr/local/lib/python3.11/dist-packages (from -r requirements.txt (line 3)) (1.3.1)\n",
            "Requirement already satisfied: cycler==0.12.1 in /usr/local/lib/python3.11/dist-packages (from -r requirements.txt (line 4)) (0.12.1)\n",
            "Requirement already satisfied: decorator==5.1.1 in /usr/local/lib/python3.11/dist-packages (from -r requirements.txt (line 5)) (5.1.1)\n",
            "Requirement already satisfied: Farama-Notifications==0.0.4 in /usr/local/lib/python3.11/dist-packages (from -r requirements.txt (line 6)) (0.0.4)\n",
            "Requirement already satisfied: fonttools==4.55.3 in /usr/local/lib/python3.11/dist-packages (from -r requirements.txt (line 7)) (4.55.3)\n",
            "Requirement already satisfied: gymnasium==1.0.0 in /usr/local/lib/python3.11/dist-packages (from -r requirements.txt (line 8)) (1.0.0)\n",
            "Requirement already satisfied: imageio==2.36.1 in /usr/local/lib/python3.11/dist-packages (from -r requirements.txt (line 9)) (2.36.1)\n",
            "Requirement already satisfied: imageio-ffmpeg==0.6.0 in /usr/local/lib/python3.11/dist-packages (from -r requirements.txt (line 10)) (0.6.0)\n",
            "Requirement already satisfied: kiwisolver==1.4.8 in /usr/local/lib/python3.11/dist-packages (from -r requirements.txt (line 11)) (1.4.8)\n",
            "Requirement already satisfied: matplotlib==3.10.0 in /usr/local/lib/python3.11/dist-packages (from -r requirements.txt (line 12)) (3.10.0)\n",
            "Requirement already satisfied: moviepy==2.1.2 in /usr/local/lib/python3.11/dist-packages (from -r requirements.txt (line 13)) (2.1.2)\n",
            "Requirement already satisfied: numpy==2.2.1 in /usr/local/lib/python3.11/dist-packages (from -r requirements.txt (line 14)) (2.2.1)\n",
            "Requirement already satisfied: opencv-python==4.11.0.86 in /usr/local/lib/python3.11/dist-packages (from -r requirements.txt (line 15)) (4.11.0.86)\n",
            "Requirement already satisfied: packaging==24.2 in /usr/local/lib/python3.11/dist-packages (from -r requirements.txt (line 16)) (24.2)\n",
            "Requirement already satisfied: pillow==10.4.0 in /usr/local/lib/python3.11/dist-packages (from -r requirements.txt (line 17)) (10.4.0)\n",
            "Requirement already satisfied: proglog==0.1.10 in /usr/local/lib/python3.11/dist-packages (from -r requirements.txt (line 18)) (0.1.10)\n",
            "Requirement already satisfied: pyparsing==3.2.1 in /usr/local/lib/python3.11/dist-packages (from -r requirements.txt (line 19)) (3.2.1)\n",
            "Requirement already satisfied: python-dateutil==2.9.0.post0 in /usr/local/lib/python3.11/dist-packages (from -r requirements.txt (line 20)) (2.9.0.post0)\n",
            "Requirement already satisfied: python-dotenv==1.0.1 in /usr/local/lib/python3.11/dist-packages (from -r requirements.txt (line 21)) (1.0.1)\n",
            "Requirement already satisfied: six==1.17.0 in /usr/local/lib/python3.11/dist-packages (from -r requirements.txt (line 22)) (1.17.0)\n",
            "Requirement already satisfied: tqdm==4.67.1 in /usr/local/lib/python3.11/dist-packages (from -r requirements.txt (line 23)) (4.67.1)\n",
            "Requirement already satisfied: typing_extensions==4.12.2 in /usr/local/lib/python3.11/dist-packages (from -r requirements.txt (line 24)) (4.12.2)\n"
          ]
        }
      ]
    },
    {
      "cell_type": "markdown",
      "source": [
        "## Training\n",
        "\n"
      ],
      "metadata": {
        "id": "T7K3gxwwNe6q"
      }
    },
    {
      "cell_type": "code",
      "source": [
        "from Algorithms.QBertAgent_QLearning import QBAgent\n",
        "import gymnasium as gym\n",
        "import ale_py\n",
        "from tqdm.notebook import tqdm\n",
        "from gymnasium.wrappers import RecordEpisodeStatistics, RecordVideo\n",
        "from EnvironmentWrappers.QbertObservationWrapper import QbertObservationWrapperTuple\n",
        "from EnvironmentWrappers.RewardFunction import RewardFunction\n",
        "gym.register_envs(ale_py)\n",
        "\n",
        "# hyperparameters\n",
        "learning_rate = 0.01\n",
        "n_episodes = 3000\n",
        "start_epsilon = 1.0\n",
        "epsilon_decay = start_epsilon / (n_episodes / 2)  # reduce the exploration over time\n",
        "final_epsilon = 0.1\n",
        "\n",
        "## TRAINING\n",
        "env = gym.make(\"ALE/Qbert-ram-v5\")\n",
        "env =  QbertObservationWrapperTuple(env)\n",
        "agent = QBAgent(\n",
        "    env=env,\n",
        "    learning_rate=learning_rate,\n",
        "    initial_epsilon=start_epsilon,\n",
        "    epsilon_decay=epsilon_decay,\n",
        "    final_epsilon=final_epsilon,\n",
        ")\n",
        "\n",
        "# history = []\n",
        "for episode in tqdm(range(n_episodes)):\n",
        "    obs, info = env.reset()\n",
        "    done = False\n",
        "    rewardFunction = RewardFunction(obs[0])\n",
        "    obs = obs[1]\n",
        "    while not done:\n",
        "        action = agent.get_action(obs, True)\n",
        "\n",
        "        next_obs, reward, terminated, truncated, info = env.step(action)\n",
        "        reward = rewardFunction.calculate_reward(next_obs, reward)\n",
        "        next_obs = next_obs[1]\n",
        "\n",
        "        # update the agent\n",
        "        agent.update(obs, action, reward, terminated, next_obs)\n",
        "\n",
        "        # update if the environment is done and the current obs\n",
        "        done = terminated or truncated\n",
        "        obs = next_obs\n",
        "\n",
        "    agent.decay_epsilon()\n",
        "\n",
        "env.close()\n",
        "\n"
      ],
      "metadata": {
        "colab": {
          "base_uri": "https://localhost:8080/",
          "height": 49,
          "referenced_widgets": [
            "38e7fe1bafc840b8951e968a5f436ce3",
            "a053e71f31274e3ba81096e30d0f7b54",
            "94a2414b52224e1590e98bab2743a138",
            "1caf4dd810a747c3b3885be604a8e9cf",
            "3e460f73869848bd84620b73a27a84dc",
            "90aafe07a24745889e65ec6bf3674717",
            "b0faf312baab4d06a97f8c3fdfe96e70",
            "43fe34af6e264115b70c3dff5470981d",
            "045ef729b8e747eea1024c8dd664e7c7",
            "990eb143db5a4960b11e02bd03c0acc3",
            "098c33416a2d47ebba9acdf97a6c7030"
          ]
        },
        "id": "izLcCBucOHcB",
        "outputId": "f7941ff5-06d3-4996-f938-9294ff7ff52e"
      },
      "execution_count": 9,
      "outputs": [
        {
          "output_type": "display_data",
          "data": {
            "text/plain": [
              "  0%|          | 0/3000 [00:00<?, ?it/s]"
            ],
            "application/vnd.jupyter.widget-view+json": {
              "version_major": 2,
              "version_minor": 0,
              "model_id": "38e7fe1bafc840b8951e968a5f436ce3"
            }
          },
          "metadata": {}
        }
      ]
    },
    {
      "cell_type": "code",
      "source": [
        "from matplotlib import pyplot as plt\n",
        "import numpy as np\n",
        "\n",
        "# visualize the episode rewards, episode length and training error in one figure\n",
        "fig, axs = plt.subplots(1, 3, figsize=(20, 8))\n",
        "\n",
        "# np.convolve will compute the rolling mean for 100 episodes\n",
        "\n",
        "axs[0].plot(np.convolve(env.return_queue, np.ones(100)))\n",
        "axs[0].set_title(\"Episode Rewards\")\n",
        "axs[0].set_xlabel(\"Episode\")\n",
        "axs[0].set_ylabel(\"Reward\")\n",
        "\n",
        "axs[1].plot(np.convolve(env.length_queue, np.ones(100)))\n",
        "axs[1].set_title(\"Episode Lengths\")\n",
        "axs[1].set_xlabel(\"Episode\")\n",
        "axs[1].set_ylabel(\"Length\")\n",
        "\n",
        "axs[2].plot(np.convolve(agent.training_error, np.ones(100)))\n",
        "axs[2].set_title(\"Training Error\")\n",
        "axs[2].set_xlabel(\"Episode\")\n",
        "axs[2].set_ylabel(\"Temporal Difference\")\n",
        "\n",
        "plt.tight_layout()\n",
        "plt.show()"
      ],
      "metadata": {
        "colab": {
          "base_uri": "https://localhost:8080/",
          "height": 565
        },
        "id": "440G4phZTmtM",
        "outputId": "80416909-d980-400e-d5b4-4b0d5eab1bdd"
      },
      "execution_count": 11,
      "outputs": [
        {
          "output_type": "error",
          "ename": "AttributeError",
          "evalue": "'QbertObservationWrapperTuple' object has no attribute 'return_queue'",
          "traceback": [
            "\u001b[0;31m---------------------------------------------------------------------------\u001b[0m",
            "\u001b[0;31mAttributeError\u001b[0m                            Traceback (most recent call last)",
            "\u001b[0;32m<ipython-input-11-9f72ae3ad8df>\u001b[0m in \u001b[0;36m<cell line: 0>\u001b[0;34m()\u001b[0m\n\u001b[1;32m      7\u001b[0m \u001b[0;31m# np.convolve will compute the rolling mean for 100 episodes\u001b[0m\u001b[0;34m\u001b[0m\u001b[0;34m\u001b[0m\u001b[0m\n\u001b[1;32m      8\u001b[0m \u001b[0;34m\u001b[0m\u001b[0m\n\u001b[0;32m----> 9\u001b[0;31m \u001b[0maxs\u001b[0m\u001b[0;34m[\u001b[0m\u001b[0;36m0\u001b[0m\u001b[0;34m]\u001b[0m\u001b[0;34m.\u001b[0m\u001b[0mplot\u001b[0m\u001b[0;34m(\u001b[0m\u001b[0mnp\u001b[0m\u001b[0;34m.\u001b[0m\u001b[0mconvolve\u001b[0m\u001b[0;34m(\u001b[0m\u001b[0menv\u001b[0m\u001b[0;34m.\u001b[0m\u001b[0mreturn_queue\u001b[0m\u001b[0;34m(\u001b[0m\u001b[0;34m)\u001b[0m\u001b[0;34m,\u001b[0m \u001b[0mnp\u001b[0m\u001b[0;34m.\u001b[0m\u001b[0mones\u001b[0m\u001b[0;34m(\u001b[0m\u001b[0;36m100\u001b[0m\u001b[0;34m)\u001b[0m\u001b[0;34m)\u001b[0m\u001b[0;34m)\u001b[0m\u001b[0;34m\u001b[0m\u001b[0;34m\u001b[0m\u001b[0m\n\u001b[0m\u001b[1;32m     10\u001b[0m \u001b[0maxs\u001b[0m\u001b[0;34m[\u001b[0m\u001b[0;36m0\u001b[0m\u001b[0;34m]\u001b[0m\u001b[0;34m.\u001b[0m\u001b[0mset_title\u001b[0m\u001b[0;34m(\u001b[0m\u001b[0;34m\"Episode Rewards\"\u001b[0m\u001b[0;34m)\u001b[0m\u001b[0;34m\u001b[0m\u001b[0;34m\u001b[0m\u001b[0m\n\u001b[1;32m     11\u001b[0m \u001b[0maxs\u001b[0m\u001b[0;34m[\u001b[0m\u001b[0;36m0\u001b[0m\u001b[0;34m]\u001b[0m\u001b[0;34m.\u001b[0m\u001b[0mset_xlabel\u001b[0m\u001b[0;34m(\u001b[0m\u001b[0;34m\"Episode\"\u001b[0m\u001b[0;34m)\u001b[0m\u001b[0;34m\u001b[0m\u001b[0;34m\u001b[0m\u001b[0m\n",
            "\u001b[0;31mAttributeError\u001b[0m: 'QbertObservationWrapperTuple' object has no attribute 'return_queue'"
          ]
        },
        {
          "output_type": "display_data",
          "data": {
            "text/plain": [
              "<Figure size 2000x800 with 3 Axes>"
            ],
            "image/png": "[encoded data removed]"
          },
          "metadata": {}
        }
      ]
    },
    {
      "cell_type": "markdown",
      "source": [
        "# Utilizzo Policy\n",
        "\n",
        "Di seguito viente utilizzata la policy precedentemente calcolata per registrare degli episodi"
      ],
      "metadata": {
        "id": "S8y3b0H6mq_d"
      }
    },
    {
      "cell_type": "code",
      "source": [
        "num_eval_episodes = 10\n",
        "\n",
        "env = gym.make(\"ALE/Qbert-ram-v5\", render_mode=\"rgb_array\")\n",
        "env =  QbertObservationWrapperTuple(env)\n",
        "env = RecordVideo(env, video_folder=directory_videos, name_prefix=\"eval\",\n",
        "                  episode_trigger=lambda x: True)\n",
        "env = RecordEpisodeStatistics(env, buffer_length=num_eval_episodes)\n",
        "\n",
        "\n",
        "for episode_num in range(num_eval_episodes):\n",
        "    obs, info = env.reset()\n",
        "    rewardFunction = RewardFunction(obs[0])\n",
        "    obs = obs[1]\n",
        "    done = False\n",
        "\n",
        "    while not done:\n",
        "        action = agent.get_action(obs, False)\n",
        "        next_obs, reward, terminated, truncated, info = env.step(action)\n",
        "        reward = rewardFunction.calculate_reward(next_obs, reward)\n",
        "        obs =  next_obs[1]\n",
        "\n",
        "        done = terminated or truncated\n",
        "env.close()\n",
        "\n",
        "print(f'Episode time taken: {env.time_queue}')\n",
        "print(f'Episode total rewards: {env.return_queue}')\n",
        "print(f'Episode lengths: {env.length_queue}')\n",
        "\n",
        "print(\"Training terminato\")\n"
      ],
      "metadata": {
        "id": "k3N-x1ogm7X4",
        "outputId": "9646685b-2c2c-4233-b454-32e1fc0d0e36",
        "colab": {
          "base_uri": "https://localhost:8080/"
        }
      },
      "execution_count": 15,
      "outputs": [
        {
          "output_type": "stream",
          "name": "stderr",
          "text": [
            "Exception ignored in: <function RecordVideo.__del__ at 0x7dcb6c39b920>\n",
            "Traceback (most recent call last):\n",
            "  File \"/usr/local/lib/python3.11/dist-packages/gymnasium/wrappers/rendering.py\", line 415, in __del__\n",
            "    if len(self.recorded_frames) > 0:\n",
            "           ^^^^^^^^^^^^^^^^^^^^\n",
            "AttributeError: 'RecordVideo' object has no attribute 'recorded_frames'\n"
          ]
        },
        {
          "output_type": "stream",
          "name": "stdout",
          "text": [
            "Episode time taken: deque([0.575788, 0.538835, 0.527885, 0.518968, 0.533042, 0.520494, 0.528948, 0.517288, 0.534733, 0.526119], maxlen=10)\n",
            "Episode total rewards: deque([0.0, 0.0, 0.0, 0.0, 0.0, 0.0, 0.0, 0.0, 0.0, 0.0], maxlen=10)\n",
            "Episode lengths: deque([1038, 1038, 1038, 1038, 1038, 1038, 1038, 1038, 1038, 1038], maxlen=10)\n",
            "Training terminato\n"
          ]
        }
      ]
    }
  ]
}